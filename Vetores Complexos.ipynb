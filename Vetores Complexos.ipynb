{
 "cells": [
  {
   "cell_type": "markdown",
   "id": "1d9fb72e",
   "metadata": {},
   "source": [
    "# Vetores Complexos"
   ]
  },
  {
   "cell_type": "markdown",
   "id": "972b7822",
   "metadata": {},
   "source": [
    "## Notação de Dirac"
   ]
  },
  {
   "cell_type": "markdown",
   "id": "8bcbc17f",
   "metadata": {},
   "source": [
    "Bra  $\\equiv \\langle \\Psi |$\n",
    "\n",
    "Ket $\\equiv |\\Psi \\rangle $ \n",
    "\n",
    "Braket $\\equiv \\langle \\Psi | \\Psi \\rangle$"
   ]
  },
  {
   "cell_type": "markdown",
   "id": "28b33496",
   "metadata": {},
   "source": [
    "$ |\\Psi \\rangle \\equiv \\begin{bmatrix}\n",
    "a_1 \\\\\n",
    "a_2 \\\\\n",
    ". \\\\\n",
    ". \\\\\n",
    ". \\\\\n",
    "a_n \\\\\n",
    "\\end{bmatrix}$ \n",
    "\n",
    "$ \\langle \\Psi |\\equiv\\begin{bmatrix}\n",
    "a_1 & a_2 & ... & a_n \\\\\n",
    "\\end{bmatrix}$\n",
    "\n",
    "$\\langle \\Psi^* | \\Psi \\rangle|\\equiv\\begin{bmatrix}\n",
    "a_1^* & a_2^* & ... & a_n^* \\\\\n",
    "\\end{bmatrix}$ \n",
    "$\\begin{bmatrix}\n",
    "a_1 \\\\\n",
    "a_2 \\\\\n",
    ". \\\\\n",
    ". \\\\\n",
    ". \\\\\n",
    "a_n \\\\\n",
    "\\end{bmatrix}$"
   ]
  },
  {
   "cell_type": "code",
   "execution_count": null,
   "id": "05678fa2",
   "metadata": {},
   "outputs": [],
   "source": []
  }
 ],
 "metadata": {
  "kernelspec": {
   "display_name": "Python 3 (ipykernel)",
   "language": "python",
   "name": "python3"
  },
  "language_info": {
   "codemirror_mode": {
    "name": "ipython",
    "version": 3
   },
   "file_extension": ".py",
   "mimetype": "text/x-python",
   "name": "python",
   "nbconvert_exporter": "python",
   "pygments_lexer": "ipython3",
   "version": "3.8.5"
  }
 },
 "nbformat": 4,
 "nbformat_minor": 5
}
