{
 "cells": [
  {
   "cell_type": "markdown",
   "id": "c616815e",
   "metadata": {},
   "source": [
    "# Matrizes"
   ]
  },
  {
   "cell_type": "markdown",
   "id": "db3200f9",
   "metadata": {},
   "source": [
    "## Definindo matrizes no python"
   ]
  },
  {
   "cell_type": "code",
   "execution_count": 1,
   "id": "57db9be0",
   "metadata": {},
   "outputs": [],
   "source": [
    "import numpy as np"
   ]
  },
  {
   "cell_type": "code",
   "execution_count": 5,
   "id": "0293bc0f",
   "metadata": {},
   "outputs": [
    {
     "name": "stdout",
     "output_type": "stream",
     "text": [
      "[[ 1  0]\n",
      " [ 0 -1]]\n"
     ]
    }
   ],
   "source": [
    "M = np.array([[1,0],[0,-1]])\n",
    "print(M)"
   ]
  },
  {
   "cell_type": "markdown",
   "id": "fb94ca72",
   "metadata": {},
   "source": [
    "## Operações com matrizes"
   ]
  },
  {
   "cell_type": "markdown",
   "id": "400a3eb5",
   "metadata": {},
   "source": [
    "### Multiplicação por um número "
   ]
  },
  {
   "cell_type": "code",
   "execution_count": 6,
   "id": "22e2d26b",
   "metadata": {},
   "outputs": [],
   "source": [
    "import numpy as np"
   ]
  },
  {
   "cell_type": "code",
   "execution_count": 14,
   "id": "20ecd111",
   "metadata": {},
   "outputs": [
    {
     "name": "stdout",
     "output_type": "stream",
     "text": [
      "[[3 0 4]\n",
      " [0 2 1]\n",
      " [1 6 8]]\n"
     ]
    }
   ],
   "source": [
    "M2 = np.array([[3,0,4],[0,2,1],[1,6,8]])\n",
    "print(M2)"
   ]
  },
  {
   "cell_type": "code",
   "execution_count": 16,
   "id": "865b4030",
   "metadata": {},
   "outputs": [
    {
     "data": {
      "text/plain": [
       "array([[ 7.5,  0. , 10. ],\n",
       "       [ 0. ,  5. ,  2.5],\n",
       "       [ 2.5, 15. , 20. ]])"
      ]
     },
     "execution_count": 16,
     "metadata": {},
     "output_type": "execute_result"
    }
   ],
   "source": [
    "(5/2)*M2"
   ]
  },
  {
   "cell_type": "markdown",
   "id": "11378f5c",
   "metadata": {},
   "source": [
    "### Soma de matrizes "
   ]
  },
  {
   "cell_type": "code",
   "execution_count": 17,
   "id": "4ac47738",
   "metadata": {},
   "outputs": [],
   "source": [
    "import numpy as np"
   ]
  },
  {
   "cell_type": "code",
   "execution_count": 19,
   "id": "adce0a94",
   "metadata": {},
   "outputs": [
    {
     "name": "stdout",
     "output_type": "stream",
     "text": [
      "[[ 1  3]\n",
      " [ 5 -1]]\n"
     ]
    }
   ],
   "source": [
    "M3 = np.array([[1,3],[5,-1]])\n",
    "print(M3)"
   ]
  },
  {
   "cell_type": "code",
   "execution_count": 20,
   "id": "f547e999",
   "metadata": {},
   "outputs": [
    {
     "name": "stdout",
     "output_type": "stream",
     "text": [
      "[[ 2  6]\n",
      " [ 5 -9]]\n"
     ]
    }
   ],
   "source": [
    "M4 = np.array([[2,6],[5,-9]])\n",
    "print(M4)"
   ]
  },
  {
   "cell_type": "code",
   "execution_count": 21,
   "id": "d9e22986",
   "metadata": {},
   "outputs": [
    {
     "data": {
      "text/plain": [
       "array([[  3,   9],\n",
       "       [ 10, -10]])"
      ]
     },
     "execution_count": 21,
     "metadata": {},
     "output_type": "execute_result"
    }
   ],
   "source": [
    "M3+M4"
   ]
  },
  {
   "cell_type": "code",
   "execution_count": 22,
   "id": "9b263a0c",
   "metadata": {},
   "outputs": [
    {
     "data": {
      "text/plain": [
       "array([[-1, -3],\n",
       "       [ 0,  8]])"
      ]
     },
     "execution_count": 22,
     "metadata": {},
     "output_type": "execute_result"
    }
   ],
   "source": [
    "M3-M4"
   ]
  },
  {
   "cell_type": "markdown",
   "id": "41c36836",
   "metadata": {},
   "source": [
    "### Multiplicação de matrizes "
   ]
  },
  {
   "cell_type": "code",
   "execution_count": 32,
   "id": "519067a2",
   "metadata": {},
   "outputs": [],
   "source": [
    "import numpy as np"
   ]
  },
  {
   "cell_type": "code",
   "execution_count": 28,
   "id": "3d680dbf",
   "metadata": {},
   "outputs": [
    {
     "name": "stdout",
     "output_type": "stream",
     "text": [
      "[[ 1  7]\n",
      " [ 5 -2]]\n"
     ]
    }
   ],
   "source": [
    "M5 = np.array([[1,7],[5,-2]])\n",
    "print(M5)"
   ]
  },
  {
   "cell_type": "code",
   "execution_count": 29,
   "id": "9d1c96fb",
   "metadata": {},
   "outputs": [
    {
     "name": "stdout",
     "output_type": "stream",
     "text": [
      "[[2 0]\n",
      " [0 3]]\n"
     ]
    }
   ],
   "source": [
    "M6 = np.array([[2,0],[0,3]])\n",
    "print(M6)"
   ]
  },
  {
   "cell_type": "code",
   "execution_count": 30,
   "id": "468c934a",
   "metadata": {},
   "outputs": [
    {
     "data": {
      "text/plain": [
       "array([[ 2, 21],\n",
       "       [10, -6]])"
      ]
     },
     "execution_count": 30,
     "metadata": {},
     "output_type": "execute_result"
    }
   ],
   "source": [
    "M5@M6"
   ]
  },
  {
   "cell_type": "code",
   "execution_count": 31,
   "id": "4bf041f3",
   "metadata": {},
   "outputs": [
    {
     "data": {
      "text/plain": [
       "array([[ 2, 14],\n",
       "       [15, -6]])"
      ]
     },
     "execution_count": 31,
     "metadata": {},
     "output_type": "execute_result"
    }
   ],
   "source": [
    "M6@M5"
   ]
  },
  {
   "cell_type": "markdown",
   "id": "f4fbc91a",
   "metadata": {},
   "source": [
    "### Matriz transposta "
   ]
  },
  {
   "cell_type": "code",
   "execution_count": 33,
   "id": "166aae12",
   "metadata": {},
   "outputs": [],
   "source": [
    "import numpy as np"
   ]
  },
  {
   "cell_type": "code",
   "execution_count": 35,
   "id": "6d9ccc56",
   "metadata": {},
   "outputs": [
    {
     "name": "stdout",
     "output_type": "stream",
     "text": [
      "[[3 0 4]\n",
      " [0 2 1]\n",
      " [1 6 8]]\n"
     ]
    }
   ],
   "source": [
    "print(M)"
   ]
  },
  {
   "cell_type": "code",
   "execution_count": 36,
   "id": "140cf428",
   "metadata": {},
   "outputs": [
    {
     "data": {
      "text/plain": [
       "array([[3, 0, 1],\n",
       "       [0, 2, 6],\n",
       "       [4, 1, 8]])"
      ]
     },
     "execution_count": 36,
     "metadata": {},
     "output_type": "execute_result"
    }
   ],
   "source": [
    "M.T"
   ]
  },
  {
   "cell_type": "code",
   "execution_count": null,
   "id": "ea3d5ba7",
   "metadata": {},
   "outputs": [],
   "source": []
  }
 ],
 "metadata": {
  "kernelspec": {
   "display_name": "Python 3 (ipykernel)",
   "language": "python",
   "name": "python3"
  },
  "language_info": {
   "codemirror_mode": {
    "name": "ipython",
    "version": 3
   },
   "file_extension": ".py",
   "mimetype": "text/x-python",
   "name": "python",
   "nbconvert_exporter": "python",
   "pygments_lexer": "ipython3",
   "version": "3.8.5"
  }
 },
 "nbformat": 4,
 "nbformat_minor": 5
}
