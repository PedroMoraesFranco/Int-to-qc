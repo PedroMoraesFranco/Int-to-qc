{
 "cells": [
  {
   "cell_type": "code",
   "execution_count": 3,
   "id": "5aad42ce",
   "metadata": {},
   "outputs": [],
   "source": [
    "from warnings import simplefilter \n",
    "simplefilter(action='ignore', category=DeprecationWarning)\n",
    "import numpy as np\n",
    "from qiskit import *\n",
    "from qiskit.tools.visualization import plot_histogram\n",
    "from qiskit.visualization import plot_bloch_multivector\n",
    "import qiskit.quantum_info as qi"
   ]
  },
  {
   "cell_type": "code",
   "execution_count": 4,
   "id": "21b84ceb",
   "metadata": {},
   "outputs": [],
   "source": [
    "from qiskit import IBMQ\n",
    "import numpy as np\n",
    "import sympy\n",
    "from sympy import Matrix\n",
    "from sympy.physics.quantum import TensorProduct"
   ]
  },
  {
   "cell_type": "code",
   "execution_count": 3,
   "id": "260197f5",
   "metadata": {},
   "outputs": [],
   "source": [
    "ket0 = np.array([[1],[0]])\n",
    "ket1 = np.array([[0],[1]])\n",
    "bra0 = np.conjugate(ket0).T\n",
    "bra1 = np.conjugate(ket1).T"
   ]
  },
  {
   "cell_type": "code",
   "execution_count": 5,
   "id": "0331c9bc",
   "metadata": {},
   "outputs": [],
   "source": [
    "psi = 1/np.sqrt(2)*(TensorProduct(ket0,ket0) + TensorProduct(ket1,ket1))"
   ]
  },
  {
   "cell_type": "code",
   "execution_count": 6,
   "id": "30c15ca7",
   "metadata": {},
   "outputs": [
    {
     "name": "stdout",
     "output_type": "stream",
     "text": [
      "[[0.70710678]\n",
      " [0.        ]\n",
      " [0.        ]\n",
      " [0.70710678]]\n"
     ]
    }
   ],
   "source": [
    "print(psi)"
   ]
  },
  {
   "cell_type": "code",
   "execution_count": null,
   "id": "bce37483",
   "metadata": {},
   "outputs": [],
   "source": []
  }
 ],
 "metadata": {
  "kernelspec": {
   "display_name": "Python 3 (ipykernel)",
   "language": "python",
   "name": "python3"
  },
  "language_info": {
   "codemirror_mode": {
    "name": "ipython",
    "version": 3
   },
   "file_extension": ".py",
   "mimetype": "text/x-python",
   "name": "python",
   "nbconvert_exporter": "python",
   "pygments_lexer": "ipython3",
   "version": "3.8.5"
  }
 },
 "nbformat": 4,
 "nbformat_minor": 5
}
