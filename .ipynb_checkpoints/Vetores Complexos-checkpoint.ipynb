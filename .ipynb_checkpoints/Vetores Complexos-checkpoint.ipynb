{
 "cells": [
  {
   "cell_type": "markdown",
   "id": "a85b953d",
   "metadata": {},
   "source": [
    "# Vetores Complexos"
   ]
  },
  {
   "cell_type": "markdown",
   "id": "bf693bda",
   "metadata": {},
   "source": [
    "## Notação de Dirac"
   ]
  },
  {
   "cell_type": "markdown",
   "id": "42e9e7ee",
   "metadata": {},
   "source": [
    "Bra  $\\equiv \\langle \\Psi |$\n",
    "\n",
    "Ket $\\equiv |\\Psi \\rangle $ \n",
    "\n",
    "Braket $\\equiv \\langle \\Psi | \\Psi \\rangle$"
   ]
  },
  {
   "cell_type": "markdown",
   "id": "37474667",
   "metadata": {},
   "source": [
    "### Teoria "
   ]
  },
  {
   "cell_type": "markdown",
   "id": "4e2e7243",
   "metadata": {},
   "source": [
    "$ |\\Psi \\rangle \\equiv \\begin{bmatrix}\n",
    "a_1 \\\\\n",
    "a_2 \\\\\n",
    ". \\\\\n",
    ". \\\\\n",
    ". \\\\\n",
    "a_n \\\\\n",
    "\\end{bmatrix}$ \n",
    "\n",
    "$ \\langle \\Psi |\\equiv\\begin{bmatrix}\n",
    "a_1 & a_2 & ... & a_n \\\\\n",
    "\\end{bmatrix}$\n",
    "\n",
    "Produto interno: $\\langle \\Psi^* | \\Psi \\rangle\\equiv\\begin{bmatrix}\n",
    "a_1^* & a_2^* & ... & a_n^* \\\\\n",
    "\\end{bmatrix}$ \n",
    "$\\begin{bmatrix}\n",
    "a_1 \\\\\n",
    "a_2 \\\\\n",
    ". \\\\\n",
    ". \\\\\n",
    ". \\\\\n",
    "a_n \\\\\n",
    "\\end{bmatrix}$\n",
    "\n",
    "Produto externo:$ |\\Psi \\rangle\\langle \\Psi^* |\\equiv\\begin{bmatrix}\n",
    "a_1 \\\\\n",
    "a_2 \\\\\n",
    ". \\\\\n",
    ". \\\\\n",
    ". \\\\\n",
    "a_n \\\\\n",
    "\\end{bmatrix}$$\\begin{bmatrix}\n",
    "a_1^* & a_2^* & ... & a_n^* \\\\\n",
    "\\end{bmatrix}$ \n",
    "\n",
    "Produto tensorial: $ |\\Phi \\rangle \t\\otimes  |\\Psi \\rangle \\equiv$\n",
    "$\\begin{bmatrix}\n",
    "v_{1} w_{1} & v_{1} w_{2} & \\cdots & v_{1} w_{m} \\\\\n",
    "v_{2} w_{1} & v_{2} w_{2} & \\cdots & v_{2} w_{m} \\\\\n",
    "\\vdots & \\vdots & \\ddots & \\vdots \\\\\n",
    "v_{n} w_{1} & v_{n} w_{2} & \\cdots & v_{n} w_{m}\\end{bmatrix}$"
   ]
  },
  {
   "cell_type": "markdown",
   "id": "bcba3139",
   "metadata": {},
   "source": [
    "## Usando vetores no python "
   ]
  },
  {
   "cell_type": "markdown",
   "id": "9cf9cc43",
   "metadata": {},
   "source": [
    "### Definindo os vetores básicos"
   ]
  },
  {
   "cell_type": "markdown",
   "id": "c98e9212",
   "metadata": {},
   "source": [
    "Definindo o vetor  $|0\\rangle$"
   ]
  },
  {
   "cell_type": "code",
   "execution_count": 8,
   "id": "9358a349",
   "metadata": {},
   "outputs": [],
   "source": [
    "import numpy as np"
   ]
  },
  {
   "cell_type": "code",
   "execution_count": 9,
   "id": "8b23c2be",
   "metadata": {},
   "outputs": [
    {
     "name": "stdout",
     "output_type": "stream",
     "text": [
      "[[1]\n",
      " [0]]\n"
     ]
    }
   ],
   "source": [
    "ket0 = np.array([[1],[0]])\n",
    "print(ket0)"
   ]
  },
  {
   "cell_type": "markdown",
   "id": "5236ecfd",
   "metadata": {},
   "source": [
    "Definindo o vetor  $\\langle0|$"
   ]
  },
  {
   "cell_type": "code",
   "execution_count": 7,
   "id": "52b974c4",
   "metadata": {},
   "outputs": [
    {
     "name": "stdout",
     "output_type": "stream",
     "text": [
      "[[1 0]]\n"
     ]
    }
   ],
   "source": [
    "bra0 = np.conjugate(ket0).T\n",
    "print(bra0)"
   ]
  },
  {
   "cell_type": "markdown",
   "id": "44c4a556",
   "metadata": {},
   "source": [
    "Definindo o vetor  $|1\\rangle$"
   ]
  },
  {
   "cell_type": "code",
   "execution_count": 10,
   "id": "6f5f2a73",
   "metadata": {},
   "outputs": [
    {
     "name": "stdout",
     "output_type": "stream",
     "text": [
      "[[0]\n",
      " [1]]\n"
     ]
    }
   ],
   "source": [
    "ket1 = np.array([[0],[1]])\n",
    "print(ket1)"
   ]
  },
  {
   "cell_type": "markdown",
   "id": "c65737bf",
   "metadata": {},
   "source": [
    "Definindo o vetor  $\\langle 1|$"
   ]
  },
  {
   "cell_type": "code",
   "execution_count": 11,
   "id": "9c2bb736",
   "metadata": {},
   "outputs": [
    {
     "name": "stdout",
     "output_type": "stream",
     "text": [
      "[[0 1]]\n"
     ]
    }
   ],
   "source": [
    "bra1 = np.conjugate(ket1).T\n",
    "print(bra1)"
   ]
  },
  {
   "cell_type": "markdown",
   "id": "920bb811",
   "metadata": {},
   "source": [
    "### Operações com os vetores"
   ]
  },
  {
   "cell_type": "markdown",
   "id": "d2595e52",
   "metadata": {},
   "source": [
    "#### Produto interno"
   ]
  },
  {
   "cell_type": "markdown",
   "id": "d3ab5dbc",
   "metadata": {},
   "source": [
    "$\\langle 0 | 1 \\rangle\\equiv\\begin{bmatrix}\n",
    "1 & 0\\\\\n",
    "\\end{bmatrix}$ \n",
    "$\\begin{bmatrix}\n",
    "0 \\\\\n",
    "1 \\\\\n",
    "\\end{bmatrix}$"
   ]
  },
  {
   "cell_type": "code",
   "execution_count": 12,
   "id": "acf1a5ec",
   "metadata": {},
   "outputs": [
    {
     "data": {
      "text/plain": [
       "array([[0]])"
      ]
     },
     "execution_count": 12,
     "metadata": {},
     "output_type": "execute_result"
    }
   ],
   "source": [
    "bra0@ket1"
   ]
  },
  {
   "cell_type": "markdown",
   "id": "99792b44",
   "metadata": {},
   "source": [
    "$\\langle 1 | 0 \\rangle\\equiv\\begin{bmatrix}\n",
    "0 & 1\\\\\n",
    "\\end{bmatrix}$ \n",
    "$\\begin{bmatrix}\n",
    "1 \\\\\n",
    "0 \\\\\n",
    "\\end{bmatrix}$"
   ]
  },
  {
   "cell_type": "code",
   "execution_count": 14,
   "id": "6e0a4a4f",
   "metadata": {},
   "outputs": [
    {
     "data": {
      "text/plain": [
       "array([[0]])"
      ]
     },
     "execution_count": 14,
     "metadata": {},
     "output_type": "execute_result"
    }
   ],
   "source": [
    "bra1@ket0"
   ]
  },
  {
   "cell_type": "markdown",
   "id": "263b842d",
   "metadata": {},
   "source": [
    "#### Produto externo"
   ]
  },
  {
   "cell_type": "markdown",
   "id": "9ad34384",
   "metadata": {},
   "source": [
    "$|1 \\rangle\\langle 0 |\\equiv\\begin{bmatrix}\n",
    "0 \\\\\n",
    "1\\\\\n",
    "\\end{bmatrix}$ $\\begin{bmatrix}\n",
    "1 & 0\\\n",
    "\\end{bmatrix}$ \n"
   ]
  },
  {
   "cell_type": "code",
   "execution_count": 15,
   "id": "ee82c601",
   "metadata": {},
   "outputs": [
    {
     "data": {
      "text/plain": [
       "array([[0, 0],\n",
       "       [1, 0]])"
      ]
     },
     "execution_count": 15,
     "metadata": {},
     "output_type": "execute_result"
    }
   ],
   "source": [
    "ket1@bra0"
   ]
  },
  {
   "cell_type": "markdown",
   "id": "68cedeb3",
   "metadata": {},
   "source": [
    "$|0 \\rangle\\langle 1 |\\equiv\\begin{bmatrix}\n",
    "1 \\\\\n",
    "0\\\\\n",
    "\\end{bmatrix}$ $\\begin{bmatrix}\n",
    "0 & 1\\\n",
    "\\end{bmatrix}$ \n"
   ]
  },
  {
   "cell_type": "code",
   "execution_count": 16,
   "id": "83fa7259",
   "metadata": {},
   "outputs": [
    {
     "data": {
      "text/plain": [
       "array([[0, 1],\n",
       "       [0, 0]])"
      ]
     },
     "execution_count": 16,
     "metadata": {},
     "output_type": "execute_result"
    }
   ],
   "source": [
    "ket0@bra1"
   ]
  },
  {
   "cell_type": "markdown",
   "id": "0f8caa36",
   "metadata": {},
   "source": [
    "#### Produto tensorial"
   ]
  },
  {
   "cell_type": "code",
   "execution_count": 20,
   "id": "881a2c89",
   "metadata": {},
   "outputs": [],
   "source": [
    "import sympy\n",
    "from sympy import Matrix\n",
    "from sympy.physics.quantum import TensorProduct"
   ]
  },
  {
   "cell_type": "markdown",
   "id": "745badcf",
   "metadata": {},
   "source": [
    "$ |0 \\rangle \t\\otimes  |0 \\rangle \\equiv$\n",
    "$\\begin{bmatrix}\n",
    "1 \\\\\n",
    "0\\\\\n",
    "\\end{bmatrix}$ $\\begin{bmatrix}\n",
    "1 \\\\\n",
    "0\\\\\n",
    "\\end{bmatrix}$"
   ]
  },
  {
   "cell_type": "code",
   "execution_count": 25,
   "id": "d71c8f90",
   "metadata": {},
   "outputs": [
    {
     "data": {
      "text/plain": [
       "array([[1],\n",
       "       [0],\n",
       "       [0],\n",
       "       [0]])"
      ]
     },
     "execution_count": 25,
     "metadata": {},
     "output_type": "execute_result"
    }
   ],
   "source": [
    "TensorProduct(ket0,ket0)"
   ]
  },
  {
   "cell_type": "markdown",
   "id": "5988066e",
   "metadata": {},
   "source": [
    "$ |0 \\rangle \t\\otimes  |1 \\rangle \\equiv$\n",
    "$\\begin{bmatrix}\n",
    "1 \\\\\n",
    "0\\\\\n",
    "\\end{bmatrix}$ $\\begin{bmatrix}\n",
    "0 \\\\\n",
    "1\\\\\n",
    "\\end{bmatrix}$"
   ]
  },
  {
   "cell_type": "code",
   "execution_count": 27,
   "id": "d32cb27c",
   "metadata": {},
   "outputs": [
    {
     "data": {
      "text/plain": [
       "array([[0],\n",
       "       [1],\n",
       "       [0],\n",
       "       [0]])"
      ]
     },
     "execution_count": 27,
     "metadata": {},
     "output_type": "execute_result"
    }
   ],
   "source": [
    "TensorProduct(ket0,ket1)"
   ]
  },
  {
   "cell_type": "markdown",
   "id": "08165b64",
   "metadata": {},
   "source": [
    "$ |1 \\rangle \t\\otimes  |0 \\rangle \\equiv$\n",
    "$\\begin{bmatrix}\n",
    "0 \\\\\n",
    "1\\\\\n",
    "\\end{bmatrix}$ $\\begin{bmatrix}\n",
    "1 \\\\\n",
    "0\\\\\n",
    "\\end{bmatrix}$"
   ]
  },
  {
   "cell_type": "code",
   "execution_count": 28,
   "id": "def6fe41",
   "metadata": {},
   "outputs": [
    {
     "data": {
      "text/plain": [
       "array([[0],\n",
       "       [0],\n",
       "       [1],\n",
       "       [0]])"
      ]
     },
     "execution_count": 28,
     "metadata": {},
     "output_type": "execute_result"
    }
   ],
   "source": [
    "TensorProduct(ket1,ket0)"
   ]
  },
  {
   "cell_type": "markdown",
   "id": "45339173",
   "metadata": {},
   "source": [
    "$ |1 \\rangle \t\\otimes  |1 \\rangle \\equiv$\n",
    "$\\begin{bmatrix}\n",
    "0 \\\\\n",
    "1\\\\\n",
    "\\end{bmatrix}$ $\\begin{bmatrix}\n",
    "0 \\\\\n",
    "1\\\\\n",
    "\\end{bmatrix}$"
   ]
  },
  {
   "cell_type": "code",
   "execution_count": 29,
   "id": "6a968ba8",
   "metadata": {},
   "outputs": [
    {
     "data": {
      "text/plain": [
       "array([[0],\n",
       "       [0],\n",
       "       [0],\n",
       "       [1]])"
      ]
     },
     "execution_count": 29,
     "metadata": {},
     "output_type": "execute_result"
    }
   ],
   "source": [
    "TensorProduct(ket1,ket1)"
   ]
  }
 ],
 "metadata": {
  "kernelspec": {
   "display_name": "Python 3 (ipykernel)",
   "language": "python",
   "name": "python3"
  },
  "language_info": {
   "codemirror_mode": {
    "name": "ipython",
    "version": 3
   },
   "file_extension": ".py",
   "mimetype": "text/x-python",
   "name": "python",
   "nbconvert_exporter": "python",
   "pygments_lexer": "ipython3",
   "version": "3.8.5"
  }
 },
 "nbformat": 4,
 "nbformat_minor": 5
}
