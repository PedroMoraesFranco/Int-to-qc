{
 "cells": [
  {
   "cell_type": "markdown",
   "id": "e1f6f97b",
   "metadata": {},
   "source": [
    "# Números Complexos "
   ]
  },
  {
   "cell_type": "markdown",
   "id": "3ab2d096",
   "metadata": {},
   "source": [
    "## Definindo números complexos no python "
   ]
  },
  {
   "cell_type": "code",
   "execution_count": 3,
   "id": "e581b0b5",
   "metadata": {},
   "outputs": [],
   "source": [
    "import numpy as np"
   ]
  },
  {
   "cell_type": "code",
   "execution_count": 2,
   "id": "35649366",
   "metadata": {},
   "outputs": [
    {
     "name": "stdout",
     "output_type": "stream",
     "text": [
      "(2+3j)\n"
     ]
    }
   ],
   "source": [
    "Z = 2 + 3j\n",
    "print(Z)"
   ]
  },
  {
   "cell_type": "code",
   "execution_count": 4,
   "id": "4b53d399",
   "metadata": {},
   "outputs": [
    {
     "name": "stdout",
     "output_type": "stream",
     "text": [
      "(5-1j)\n"
     ]
    }
   ],
   "source": [
    "W = 5 - 1j\n",
    "print(W)"
   ]
  },
  {
   "cell_type": "markdown",
   "id": "dc8cbb6a",
   "metadata": {},
   "source": [
    "## Operações com números complexos"
   ]
  },
  {
   "cell_type": "markdown",
   "id": "a31445b5",
   "metadata": {},
   "source": [
    "### Soma entre números complexos "
   ]
  },
  {
   "cell_type": "code",
   "execution_count": 5,
   "id": "8111e602",
   "metadata": {},
   "outputs": [],
   "source": [
    "import numpy as np"
   ]
  },
  {
   "cell_type": "code",
   "execution_count": 9,
   "id": "d8cda2f7",
   "metadata": {},
   "outputs": [
    {
     "name": "stdout",
     "output_type": "stream",
     "text": [
      "z= (2+3j)\n",
      "W= (5-1j)\n"
     ]
    }
   ],
   "source": [
    "print(\"z=\",Z)\n",
    "print(\"W=\",W)"
   ]
  },
  {
   "cell_type": "code",
   "execution_count": 7,
   "id": "dccb8ac3",
   "metadata": {},
   "outputs": [
    {
     "data": {
      "text/plain": [
       "(7+2j)"
      ]
     },
     "execution_count": 7,
     "metadata": {},
     "output_type": "execute_result"
    }
   ],
   "source": [
    "Z+W"
   ]
  },
  {
   "cell_type": "code",
   "execution_count": 10,
   "id": "a3e06c45",
   "metadata": {},
   "outputs": [
    {
     "data": {
      "text/plain": [
       "(-3+4j)"
      ]
     },
     "execution_count": 10,
     "metadata": {},
     "output_type": "execute_result"
    }
   ],
   "source": [
    "Z-W"
   ]
  },
  {
   "cell_type": "markdown",
   "id": "141291e9",
   "metadata": {},
   "source": [
    "### Multiplicação por um número "
   ]
  },
  {
   "cell_type": "code",
   "execution_count": 11,
   "id": "76705534",
   "metadata": {},
   "outputs": [
    {
     "data": {
      "text/plain": [
       "(6+9j)"
      ]
     },
     "execution_count": 11,
     "metadata": {},
     "output_type": "execute_result"
    }
   ],
   "source": [
    "3*Z"
   ]
  },
  {
   "cell_type": "code",
   "execution_count": 12,
   "id": "c0d5c8e2",
   "metadata": {},
   "outputs": [
    {
     "data": {
      "text/plain": [
       "(2.5-0.5j)"
      ]
     },
     "execution_count": 12,
     "metadata": {},
     "output_type": "execute_result"
    }
   ],
   "source": [
    "(1/2)*W"
   ]
  },
  {
   "cell_type": "markdown",
   "id": "5afc6ef0",
   "metadata": {},
   "source": [
    "### Multiplicação entre números complexos"
   ]
  },
  {
   "cell_type": "code",
   "execution_count": 13,
   "id": "05b4d148",
   "metadata": {},
   "outputs": [],
   "source": [
    "import numpy as np"
   ]
  },
  {
   "cell_type": "code",
   "execution_count": 14,
   "id": "e2ae121e",
   "metadata": {},
   "outputs": [
    {
     "name": "stdout",
     "output_type": "stream",
     "text": [
      "z= (2+3j)\n",
      "W= (5-1j)\n"
     ]
    }
   ],
   "source": [
    "print(\"z=\",Z)\n",
    "print(\"W=\",W)"
   ]
  },
  {
   "cell_type": "code",
   "execution_count": 15,
   "id": "b634dc65",
   "metadata": {},
   "outputs": [
    {
     "data": {
      "text/plain": [
       "(13+13j)"
      ]
     },
     "execution_count": 15,
     "metadata": {},
     "output_type": "execute_result"
    }
   ],
   "source": [
    "Z*W"
   ]
  },
  {
   "cell_type": "markdown",
   "id": "401726a8",
   "metadata": {},
   "source": [
    "### Divisão de números complexos"
   ]
  },
  {
   "cell_type": "code",
   "execution_count": 18,
   "id": "2fd4ac9a",
   "metadata": {},
   "outputs": [],
   "source": [
    "import numpy as np"
   ]
  },
  {
   "cell_type": "code",
   "execution_count": 19,
   "id": "00297c16",
   "metadata": {},
   "outputs": [
    {
     "name": "stdout",
     "output_type": "stream",
     "text": [
      "z= (2+3j)\n",
      "W= (5-1j)\n"
     ]
    }
   ],
   "source": [
    "print(\"z=\",Z)\n",
    "print(\"W=\",W)"
   ]
  },
  {
   "cell_type": "code",
   "execution_count": 20,
   "id": "437936d3",
   "metadata": {},
   "outputs": [
    {
     "data": {
      "text/plain": [
       "(0.2692307692307692+0.6538461538461539j)"
      ]
     },
     "execution_count": 20,
     "metadata": {},
     "output_type": "execute_result"
    }
   ],
   "source": [
    "Z/W"
   ]
  },
  {
   "cell_type": "code",
   "execution_count": 21,
   "id": "b94620e2",
   "metadata": {},
   "outputs": [
    {
     "data": {
      "text/plain": [
       "(0.5384615384615384-1.307692307692308j)"
      ]
     },
     "execution_count": 21,
     "metadata": {},
     "output_type": "execute_result"
    }
   ],
   "source": [
    "W/Z"
   ]
  },
  {
   "cell_type": "markdown",
   "id": "0c4a41b2",
   "metadata": {},
   "source": [
    "### Conjugado de um número complexo"
   ]
  },
  {
   "cell_type": "code",
   "execution_count": 23,
   "id": "fe4f621f",
   "metadata": {},
   "outputs": [],
   "source": [
    "import numpy as np"
   ]
  },
  {
   "cell_type": "code",
   "execution_count": 24,
   "id": "a8de5918",
   "metadata": {},
   "outputs": [
    {
     "name": "stdout",
     "output_type": "stream",
     "text": [
      "z= (2+3j)\n",
      "W= (5-1j)\n"
     ]
    }
   ],
   "source": [
    "print(\"z=\",Z)\n",
    "print(\"W=\",W)"
   ]
  },
  {
   "cell_type": "code",
   "execution_count": 25,
   "id": "92c3b6c6",
   "metadata": {},
   "outputs": [
    {
     "data": {
      "text/plain": [
       "(2-3j)"
      ]
     },
     "execution_count": 25,
     "metadata": {},
     "output_type": "execute_result"
    }
   ],
   "source": [
    "np.conjugate(Z)"
   ]
  },
  {
   "cell_type": "code",
   "execution_count": 26,
   "id": "25c45d51",
   "metadata": {},
   "outputs": [
    {
     "data": {
      "text/plain": [
       "(5+1j)"
      ]
     },
     "execution_count": 26,
     "metadata": {},
     "output_type": "execute_result"
    }
   ],
   "source": [
    "np.conjugate(W)"
   ]
  },
  {
   "cell_type": "markdown",
   "id": "b4b9c0b8",
   "metadata": {},
   "source": [
    "### Absoluto de um número complexo "
   ]
  },
  {
   "cell_type": "code",
   "execution_count": 28,
   "id": "013f7a3a",
   "metadata": {},
   "outputs": [],
   "source": [
    "import numpy as np"
   ]
  },
  {
   "cell_type": "code",
   "execution_count": 29,
   "id": "024641f8",
   "metadata": {},
   "outputs": [
    {
     "name": "stdout",
     "output_type": "stream",
     "text": [
      "z= (2+3j)\n",
      "W= (5-1j)\n"
     ]
    }
   ],
   "source": [
    "print(\"z=\",Z)\n",
    "print(\"W=\",W)"
   ]
  },
  {
   "cell_type": "code",
   "execution_count": 30,
   "id": "8a62ec19",
   "metadata": {},
   "outputs": [
    {
     "data": {
      "text/plain": [
       "3.605551275463989"
      ]
     },
     "execution_count": 30,
     "metadata": {},
     "output_type": "execute_result"
    }
   ],
   "source": [
    "np.abs(Z)"
   ]
  },
  {
   "cell_type": "markdown",
   "id": "b1a1f4ab",
   "metadata": {},
   "source": [
    "### Forma trigonomérica"
   ]
  },
  {
   "cell_type": "code",
   "execution_count": 34,
   "id": "4721f931",
   "metadata": {},
   "outputs": [],
   "source": [
    "import numpy as np"
   ]
  },
  {
   "cell_type": "code",
   "execution_count": 35,
   "id": "61c698a1",
   "metadata": {},
   "outputs": [
    {
     "name": "stdout",
     "output_type": "stream",
     "text": [
      "Z= (2+3j)\n"
     ]
    }
   ],
   "source": [
    "print(\"Z=\",Z)"
   ]
  },
  {
   "cell_type": "code",
   "execution_count": 36,
   "id": "0b5f5c42",
   "metadata": {},
   "outputs": [
    {
     "data": {
      "text/plain": [
       "3.605551275463989"
      ]
     },
     "execution_count": 36,
     "metadata": {},
     "output_type": "execute_result"
    }
   ],
   "source": [
    "np.abs(Z)"
   ]
  },
  {
   "cell_type": "code",
   "execution_count": null,
   "id": "38112aa3",
   "metadata": {},
   "outputs": [],
   "source": []
  }
 ],
 "metadata": {
  "kernelspec": {
   "display_name": "Python 3 (ipykernel)",
   "language": "python",
   "name": "python3"
  },
  "language_info": {
   "codemirror_mode": {
    "name": "ipython",
    "version": 3
   },
   "file_extension": ".py",
   "mimetype": "text/x-python",
   "name": "python",
   "nbconvert_exporter": "python",
   "pygments_lexer": "ipython3",
   "version": "3.8.5"
  }
 },
 "nbformat": 4,
 "nbformat_minor": 5
}
