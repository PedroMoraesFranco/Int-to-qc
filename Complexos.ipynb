{
 "cells": [
  {
   "cell_type": "markdown",
   "id": "62f1927b",
   "metadata": {},
   "source": [
    "# Números Complexos "
   ]
  },
  {
   "cell_type": "markdown",
   "id": "9fbac45e",
   "metadata": {},
   "source": [
    "## Definindo números complexos no python "
   ]
  },
  {
   "cell_type": "code",
   "execution_count": 3,
   "id": "ed8f604e",
   "metadata": {},
   "outputs": [],
   "source": [
    "import numpy as np"
   ]
  },
  {
   "cell_type": "code",
   "execution_count": 2,
   "id": "958420a8",
   "metadata": {},
   "outputs": [
    {
     "name": "stdout",
     "output_type": "stream",
     "text": [
      "(2+3j)\n"
     ]
    }
   ],
   "source": [
    "Z = 2 + 3j\n",
    "print(Z)"
   ]
  },
  {
   "cell_type": "code",
   "execution_count": 4,
   "id": "ad910556",
   "metadata": {},
   "outputs": [
    {
     "name": "stdout",
     "output_type": "stream",
     "text": [
      "(5-1j)\n"
     ]
    }
   ],
   "source": [
    "W = 5 - 1j\n",
    "print(W)"
   ]
  },
  {
   "cell_type": "markdown",
   "id": "2a430a08",
   "metadata": {},
   "source": [
    "## Operações com números complexos"
   ]
  },
  {
   "cell_type": "markdown",
   "id": "747742dc",
   "metadata": {},
   "source": [
    "### Soma entre números complexos "
   ]
  },
  {
   "cell_type": "code",
   "execution_count": 5,
   "id": "e61588ca",
   "metadata": {},
   "outputs": [],
   "source": [
    "import numpy as np"
   ]
  },
  {
   "cell_type": "code",
   "execution_count": 9,
   "id": "6eadefd8",
   "metadata": {},
   "outputs": [
    {
     "name": "stdout",
     "output_type": "stream",
     "text": [
      "z= (2+3j)\n",
      "W= (5-1j)\n"
     ]
    }
   ],
   "source": [
    "print(\"z=\",Z)\n",
    "print(\"W=\",W)"
   ]
  },
  {
   "cell_type": "code",
   "execution_count": 7,
   "id": "0ab24fd9",
   "metadata": {},
   "outputs": [
    {
     "data": {
      "text/plain": [
       "(7+2j)"
      ]
     },
     "execution_count": 7,
     "metadata": {},
     "output_type": "execute_result"
    }
   ],
   "source": [
    "Z+W"
   ]
  },
  {
   "cell_type": "code",
   "execution_count": 10,
   "id": "3599b147",
   "metadata": {},
   "outputs": [
    {
     "data": {
      "text/plain": [
       "(-3+4j)"
      ]
     },
     "execution_count": 10,
     "metadata": {},
     "output_type": "execute_result"
    }
   ],
   "source": [
    "Z-W"
   ]
  },
  {
   "cell_type": "markdown",
   "id": "4055578f",
   "metadata": {},
   "source": [
    "### Multiplicação por um número "
   ]
  },
  {
   "cell_type": "code",
   "execution_count": 11,
   "id": "6a47ea09",
   "metadata": {},
   "outputs": [
    {
     "data": {
      "text/plain": [
       "(6+9j)"
      ]
     },
     "execution_count": 11,
     "metadata": {},
     "output_type": "execute_result"
    }
   ],
   "source": [
    "3*Z"
   ]
  },
  {
   "cell_type": "code",
   "execution_count": 12,
   "id": "8767d4ec",
   "metadata": {},
   "outputs": [
    {
     "data": {
      "text/plain": [
       "(2.5-0.5j)"
      ]
     },
     "execution_count": 12,
     "metadata": {},
     "output_type": "execute_result"
    }
   ],
   "source": [
    "(1/2)*W"
   ]
  },
  {
   "cell_type": "markdown",
   "id": "00486a47",
   "metadata": {},
   "source": [
    "### Multiplicação entre números complexos"
   ]
  },
  {
   "cell_type": "code",
   "execution_count": 13,
   "id": "6cd548b2",
   "metadata": {},
   "outputs": [],
   "source": [
    "import numpy as np"
   ]
  },
  {
   "cell_type": "code",
   "execution_count": 14,
   "id": "8bf411f5",
   "metadata": {},
   "outputs": [
    {
     "name": "stdout",
     "output_type": "stream",
     "text": [
      "z= (2+3j)\n",
      "W= (5-1j)\n"
     ]
    }
   ],
   "source": [
    "print(\"z=\",Z)\n",
    "print(\"W=\",W)"
   ]
  },
  {
   "cell_type": "code",
   "execution_count": 15,
   "id": "74707fc0",
   "metadata": {},
   "outputs": [
    {
     "data": {
      "text/plain": [
       "(13+13j)"
      ]
     },
     "execution_count": 15,
     "metadata": {},
     "output_type": "execute_result"
    }
   ],
   "source": [
    "Z*W"
   ]
  },
  {
   "cell_type": "markdown",
   "id": "2b63c8ca",
   "metadata": {},
   "source": [
    "### Divisão de números complexos"
   ]
  },
  {
   "cell_type": "code",
   "execution_count": 18,
   "id": "64bbc3ff",
   "metadata": {},
   "outputs": [],
   "source": [
    "import numpy as np"
   ]
  },
  {
   "cell_type": "code",
   "execution_count": 19,
   "id": "c8e43d07",
   "metadata": {},
   "outputs": [
    {
     "name": "stdout",
     "output_type": "stream",
     "text": [
      "z= (2+3j)\n",
      "W= (5-1j)\n"
     ]
    }
   ],
   "source": [
    "print(\"z=\",Z)\n",
    "print(\"W=\",W)"
   ]
  },
  {
   "cell_type": "code",
   "execution_count": 20,
   "id": "9a6e4fbe",
   "metadata": {},
   "outputs": [
    {
     "data": {
      "text/plain": [
       "(0.2692307692307692+0.6538461538461539j)"
      ]
     },
     "execution_count": 20,
     "metadata": {},
     "output_type": "execute_result"
    }
   ],
   "source": [
    "Z/W"
   ]
  },
  {
   "cell_type": "code",
   "execution_count": 21,
   "id": "3e309f1b",
   "metadata": {},
   "outputs": [
    {
     "data": {
      "text/plain": [
       "(0.5384615384615384-1.307692307692308j)"
      ]
     },
     "execution_count": 21,
     "metadata": {},
     "output_type": "execute_result"
    }
   ],
   "source": [
    "W/Z"
   ]
  },
  {
   "cell_type": "markdown",
   "id": "79766350",
   "metadata": {},
   "source": [
    "### Conjugado de um número complexo"
   ]
  },
  {
   "cell_type": "code",
   "execution_count": 23,
   "id": "6fd51605",
   "metadata": {},
   "outputs": [],
   "source": [
    "import numpy as np"
   ]
  },
  {
   "cell_type": "code",
   "execution_count": 24,
   "id": "2caa78cc",
   "metadata": {},
   "outputs": [
    {
     "name": "stdout",
     "output_type": "stream",
     "text": [
      "z= (2+3j)\n",
      "W= (5-1j)\n"
     ]
    }
   ],
   "source": [
    "print(\"z=\",Z)\n",
    "print(\"W=\",W)"
   ]
  },
  {
   "cell_type": "code",
   "execution_count": 25,
   "id": "3468a930",
   "metadata": {},
   "outputs": [
    {
     "data": {
      "text/plain": [
       "(2-3j)"
      ]
     },
     "execution_count": 25,
     "metadata": {},
     "output_type": "execute_result"
    }
   ],
   "source": [
    "np.conjugate(Z)"
   ]
  },
  {
   "cell_type": "code",
   "execution_count": 26,
   "id": "ff7df5eb",
   "metadata": {},
   "outputs": [
    {
     "data": {
      "text/plain": [
       "(5+1j)"
      ]
     },
     "execution_count": 26,
     "metadata": {},
     "output_type": "execute_result"
    }
   ],
   "source": [
    "np.conjugate(W)"
   ]
  },
  {
   "cell_type": "markdown",
   "id": "b6c300c4",
   "metadata": {},
   "source": [
    "### Absoluto de um número complexo "
   ]
  },
  {
   "cell_type": "code",
   "execution_count": 28,
   "id": "40e0072f",
   "metadata": {},
   "outputs": [],
   "source": [
    "import numpy as np"
   ]
  },
  {
   "cell_type": "code",
   "execution_count": 29,
   "id": "395d3159",
   "metadata": {},
   "outputs": [
    {
     "name": "stdout",
     "output_type": "stream",
     "text": [
      "z= (2+3j)\n",
      "W= (5-1j)\n"
     ]
    }
   ],
   "source": [
    "print(\"z=\",Z)\n",
    "print(\"W=\",W)"
   ]
  },
  {
   "cell_type": "code",
   "execution_count": 30,
   "id": "c832ea9f",
   "metadata": {},
   "outputs": [
    {
     "data": {
      "text/plain": [
       "3.605551275463989"
      ]
     },
     "execution_count": 30,
     "metadata": {},
     "output_type": "execute_result"
    }
   ],
   "source": [
    "np.abs(Z)"
   ]
  },
  {
   "cell_type": "markdown",
   "id": "609f80c4",
   "metadata": {},
   "source": [
    "### Forma trigonomérica"
   ]
  },
  {
   "cell_type": "code",
   "execution_count": 34,
   "id": "5b99e3b2",
   "metadata": {},
   "outputs": [],
   "source": [
    "import numpy as np"
   ]
  },
  {
   "cell_type": "code",
   "execution_count": 35,
   "id": "594b6184",
   "metadata": {},
   "outputs": [
    {
     "name": "stdout",
     "output_type": "stream",
     "text": [
      "Z= (2+3j)\n"
     ]
    }
   ],
   "source": [
    "print(tr\"Z=\",Z)"
   ]
  },
  {
   "cell_type": "code",
   "execution_count": 36,
   "id": "e9f7d70b",
   "metadata": {},
   "outputs": [
    {
     "data": {
      "text/plain": [
       "3.605551275463989"
      ]
     },
     "execution_count": 36,
     "metadata": {},
     "output_type": "execute_result"
    }
   ],
   "source": [
    "absoluto=np.abs(Z)"
   ]
  },
  {
   "cell_type": "code",
   "execution_count": 39,
   "id": "cb105d61",
   "metadata": {},
   "outputs": [
    {
     "ename": "AttributeError",
     "evalue": "module 'numpy' has no attribute 'asin'",
     "output_type": "error",
     "traceback": [
      "\u001b[1;31m---------------------------------------------------------------------------\u001b[0m",
      "\u001b[1;31mAttributeError\u001b[0m                            Traceback (most recent call last)",
      "\u001b[1;32m~\\AppData\\Local\\Temp/ipykernel_6616/612018880.py\u001b[0m in \u001b[0;36m<module>\u001b[1;34m\u001b[0m\n\u001b[1;32m----> 1\u001b[1;33m \u001b[0mimgpart\u001b[0m\u001b[1;33m=\u001b[0m\u001b[0mnp\u001b[0m\u001b[1;33m.\u001b[0m\u001b[0masin\u001b[0m\u001b[1;33m(\u001b[0m\u001b[0mimag\u001b[0m\u001b[1;33m(\u001b[0m\u001b[0mZ\u001b[0m\u001b[1;33m)\u001b[0m\u001b[1;33m/\u001b[0m\u001b[0mabsoluto\u001b[0m\u001b[1;33m)\u001b[0m\u001b[1;33m\u001b[0m\u001b[1;33m\u001b[0m\u001b[0m\n\u001b[0m",
      "\u001b[1;32mc:\\users\\pedro\\appdata\\local\\programs\\python\\python38\\lib\\site-packages\\numpy\\__init__.py\u001b[0m in \u001b[0;36m__getattr__\u001b[1;34m(attr)\u001b[0m\n\u001b[0;32m    313\u001b[0m             \u001b[1;32mreturn\u001b[0m \u001b[0mTester\u001b[0m\u001b[1;33m\u001b[0m\u001b[1;33m\u001b[0m\u001b[0m\n\u001b[0;32m    314\u001b[0m \u001b[1;33m\u001b[0m\u001b[0m\n\u001b[1;32m--> 315\u001b[1;33m         raise AttributeError(\"module {!r} has no attribute \"\n\u001b[0m\u001b[0;32m    316\u001b[0m                              \"{!r}\".format(__name__, attr))\n\u001b[0;32m    317\u001b[0m \u001b[1;33m\u001b[0m\u001b[0m\n",
      "\u001b[1;31mAttributeError\u001b[0m: module 'numpy' has no attribute 'asin'"
     ]
    }
   ],
   "source": [
    "imgpart=np.asin(imag(Z)/absoluto)"
   ]
  },
  {
   "cell_type": "code",
   "execution_count": null,
   "id": "70656f4a",
   "metadata": {},
   "outputs": [],
   "source": []
  }
 ],
 "metadata": {
  "kernelspec": {
   "display_name": "Python 3 (ipykernel)",
   "language": "python",
   "name": "python3"
  },
  "language_info": {
   "codemirror_mode": {
    "name": "ipython",
    "version": 3
   },
   "file_extension": ".py",
   "mimetype": "text/x-python",
   "name": "python",
   "nbconvert_exporter": "python",
   "pygments_lexer": "ipython3",
   "version": "3.8.5"
  }
 },
 "nbformat": 4,
 "nbformat_minor": 5
}
