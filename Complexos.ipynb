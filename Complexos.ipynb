{
 "cells": [
  {
   "cell_type": "markdown",
   "id": "12205d60",
   "metadata": {},
   "source": [
    "# Números Complexos "
   ]
  },
  {
   "cell_type": "markdown",
   "id": "278068db",
   "metadata": {},
   "source": [
    "## Definindo números complexos no python "
   ]
  },
  {
   "cell_type": "code",
   "execution_count": 3,
   "id": "9f319fbb",
   "metadata": {},
   "outputs": [],
   "source": [
    "import numpy as np"
   ]
  },
  {
   "cell_type": "code",
   "execution_count": 2,
   "id": "c6541525",
   "metadata": {},
   "outputs": [
    {
     "name": "stdout",
     "output_type": "stream",
     "text": [
      "(2+3j)\n"
     ]
    }
   ],
   "source": [
    "Z = 2 + 3j\n",
    "print(Z)"
   ]
  },
  {
   "cell_type": "code",
   "execution_count": 4,
   "id": "bd6bb188",
   "metadata": {},
   "outputs": [
    {
     "name": "stdout",
     "output_type": "stream",
     "text": [
      "(5-1j)\n"
     ]
    }
   ],
   "source": [
    "W = 5 - 1j\n",
    "print(W)"
   ]
  },
  {
   "cell_type": "markdown",
   "id": "4cfc806b",
   "metadata": {},
   "source": [
    "## Operações com números complexos"
   ]
  },
  {
   "cell_type": "markdown",
   "id": "4119ead9",
   "metadata": {},
   "source": [
    "### Soma entre números complexos "
   ]
  },
  {
   "cell_type": "code",
   "execution_count": 5,
   "id": "d4c1af5b",
   "metadata": {},
   "outputs": [],
   "source": [
    "import numpy as np"
   ]
  },
  {
   "cell_type": "code",
   "execution_count": 9,
   "id": "4c896be8",
   "metadata": {},
   "outputs": [
    {
     "name": "stdout",
     "output_type": "stream",
     "text": [
      "z= (2+3j)\n",
      "W= (5-1j)\n"
     ]
    }
   ],
   "source": [
    "print(\"z=\",Z)\n",
    "print(\"W=\",W)"
   ]
  },
  {
   "cell_type": "code",
   "execution_count": 7,
   "id": "335ce07c",
   "metadata": {},
   "outputs": [
    {
     "data": {
      "text/plain": [
       "(7+2j)"
      ]
     },
     "execution_count": 7,
     "metadata": {},
     "output_type": "execute_result"
    }
   ],
   "source": [
    "Z+W"
   ]
  },
  {
   "cell_type": "code",
   "execution_count": 10,
   "id": "b3bab879",
   "metadata": {},
   "outputs": [
    {
     "data": {
      "text/plain": [
       "(-3+4j)"
      ]
     },
     "execution_count": 10,
     "metadata": {},
     "output_type": "execute_result"
    }
   ],
   "source": [
    "Z-W"
   ]
  },
  {
   "cell_type": "markdown",
   "id": "937ad4f2",
   "metadata": {},
   "source": [
    "### Multiplicação por um número "
   ]
  },
  {
   "cell_type": "code",
   "execution_count": 11,
   "id": "26d87077",
   "metadata": {},
   "outputs": [
    {
     "data": {
      "text/plain": [
       "(6+9j)"
      ]
     },
     "execution_count": 11,
     "metadata": {},
     "output_type": "execute_result"
    }
   ],
   "source": [
    "3*Z"
   ]
  },
  {
   "cell_type": "code",
   "execution_count": 12,
   "id": "b0d2a58b",
   "metadata": {},
   "outputs": [
    {
     "data": {
      "text/plain": [
       "(2.5-0.5j)"
      ]
     },
     "execution_count": 12,
     "metadata": {},
     "output_type": "execute_result"
    }
   ],
   "source": [
    "(1/2)*W"
   ]
  },
  {
   "cell_type": "markdown",
   "id": "a1149244",
   "metadata": {},
   "source": [
    "### Multiplicação entre números complexos"
   ]
  },
  {
   "cell_type": "code",
   "execution_count": 13,
   "id": "d7794f37",
   "metadata": {},
   "outputs": [],
   "source": [
    "import numpy as np"
   ]
  },
  {
   "cell_type": "code",
   "execution_count": 14,
   "id": "8b91ecd0",
   "metadata": {},
   "outputs": [
    {
     "name": "stdout",
     "output_type": "stream",
     "text": [
      "z= (2+3j)\n",
      "W= (5-1j)\n"
     ]
    }
   ],
   "source": [
    "print(\"z=\",Z)\n",
    "print(\"W=\",W)"
   ]
  },
  {
   "cell_type": "code",
   "execution_count": 15,
   "id": "c60ff9fb",
   "metadata": {},
   "outputs": [
    {
     "data": {
      "text/plain": [
       "(13+13j)"
      ]
     },
     "execution_count": 15,
     "metadata": {},
     "output_type": "execute_result"
    }
   ],
   "source": [
    "Z*W"
   ]
  },
  {
   "cell_type": "markdown",
   "id": "8567c4f9",
   "metadata": {},
   "source": [
    "### Divisão de números complexos"
   ]
  },
  {
   "cell_type": "code",
   "execution_count": 18,
   "id": "f1b696ab",
   "metadata": {},
   "outputs": [],
   "source": [
    "import numpy as np"
   ]
  },
  {
   "cell_type": "code",
   "execution_count": 19,
   "id": "a9c04333",
   "metadata": {},
   "outputs": [
    {
     "name": "stdout",
     "output_type": "stream",
     "text": [
      "z= (2+3j)\n",
      "W= (5-1j)\n"
     ]
    }
   ],
   "source": [
    "print(\"z=\",Z)\n",
    "print(\"W=\",W)"
   ]
  },
  {
   "cell_type": "code",
   "execution_count": 20,
   "id": "9d1e5077",
   "metadata": {},
   "outputs": [
    {
     "data": {
      "text/plain": [
       "(0.2692307692307692+0.6538461538461539j)"
      ]
     },
     "execution_count": 20,
     "metadata": {},
     "output_type": "execute_result"
    }
   ],
   "source": [
    "Z/W"
   ]
  },
  {
   "cell_type": "code",
   "execution_count": 21,
   "id": "e33c0f1c",
   "metadata": {},
   "outputs": [
    {
     "data": {
      "text/plain": [
       "(0.5384615384615384-1.307692307692308j)"
      ]
     },
     "execution_count": 21,
     "metadata": {},
     "output_type": "execute_result"
    }
   ],
   "source": [
    "W/Z"
   ]
  },
  {
   "cell_type": "markdown",
   "id": "16c8534d",
   "metadata": {},
   "source": [
    "### Conjugado de um número complexo"
   ]
  },
  {
   "cell_type": "code",
   "execution_count": 23,
   "id": "be2b82b0",
   "metadata": {},
   "outputs": [],
   "source": [
    "import numpy as np"
   ]
  },
  {
   "cell_type": "code",
   "execution_count": 24,
   "id": "5f552b5b",
   "metadata": {},
   "outputs": [
    {
     "name": "stdout",
     "output_type": "stream",
     "text": [
      "z= (2+3j)\n",
      "W= (5-1j)\n"
     ]
    }
   ],
   "source": [
    "print(\"z=\",Z)\n",
    "print(\"W=\",W)"
   ]
  },
  {
   "cell_type": "code",
   "execution_count": 25,
   "id": "1938e82f",
   "metadata": {},
   "outputs": [
    {
     "data": {
      "text/plain": [
       "(2-3j)"
      ]
     },
     "execution_count": 25,
     "metadata": {},
     "output_type": "execute_result"
    }
   ],
   "source": [
    "np.conjugate(Z)"
   ]
  },
  {
   "cell_type": "code",
   "execution_count": 26,
   "id": "3ef7d1dd",
   "metadata": {},
   "outputs": [
    {
     "data": {
      "text/plain": [
       "(5+1j)"
      ]
     },
     "execution_count": 26,
     "metadata": {},
     "output_type": "execute_result"
    }
   ],
   "source": [
    "np.conjugate(W)"
   ]
  },
  {
   "cell_type": "markdown",
   "id": "0d16b6b9",
   "metadata": {},
   "source": [
    "### Absoluto de um número complexo "
   ]
  },
  {
   "cell_type": "code",
   "execution_count": 28,
   "id": "54053dcd",
   "metadata": {},
   "outputs": [],
   "source": [
    "import numpy as np"
   ]
  },
  {
   "cell_type": "code",
   "execution_count": 29,
   "id": "010b1ca5",
   "metadata": {},
   "outputs": [
    {
     "name": "stdout",
     "output_type": "stream",
     "text": [
      "z= (2+3j)\n",
      "W= (5-1j)\n"
     ]
    }
   ],
   "source": [
    "print(\"z=\",Z)\n",
    "print(\"W=\",W)"
   ]
  },
  {
   "cell_type": "code",
   "execution_count": 69,
   "id": "edfda04a",
   "metadata": {},
   "outputs": [
    {
     "data": {
      "text/plain": [
       "3.605551275463989"
      ]
     },
     "execution_count": 69,
     "metadata": {},
     "output_type": "execute_result"
    }
   ],
   "source": [
    "np.abs(Z)"
   ]
  },
  {
   "cell_type": "code",
   "execution_count": 70,
   "id": "f0ad5a4c",
   "metadata": {},
   "outputs": [
    {
     "data": {
      "text/plain": [
       "5.0990195135927845"
      ]
     },
     "execution_count": 70,
     "metadata": {},
     "output_type": "execute_result"
    }
   ],
   "source": [
    "np.abs(W)"
   ]
  },
  {
   "cell_type": "code",
   "execution_count": null,
   "id": "c3b92e25",
   "metadata": {},
   "outputs": [],
   "source": []
  }
 ],
 "metadata": {
  "kernelspec": {
   "display_name": "Python 3 (ipykernel)",
   "language": "python",
   "name": "python3"
  },
  "language_info": {
   "codemirror_mode": {
    "name": "ipython",
    "version": 3
   },
   "file_extension": ".py",
   "mimetype": "text/x-python",
   "name": "python",
   "nbconvert_exporter": "python",
   "pygments_lexer": "ipython3",
   "version": "3.8.5"
  }
 },
 "nbformat": 4,
 "nbformat_minor": 5
}
