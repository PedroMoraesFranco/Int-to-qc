{
 "cells": [
  {
   "cell_type": "markdown",
   "id": "06b28007-3520-4d43-bf85-acfb4fc0602e",
   "metadata": {},
   "source": [
    "# Gates dos circuitos quânticos"
   ]
  },
  {
   "cell_type": "markdown",
   "id": "410b4309-e065-4e1a-b601-696d686180aa",
   "metadata": {},
   "source": [
    "## Operação de medida"
   ]
  },
  {
   "cell_type": "markdown",
   "id": "51fbcfa9-5cc6-4891-a656-321e15e35351",
   "metadata": {},
   "source": [
    "É um tipo de \"gate\" que faz medida, não é unitária, é irreversível e não preserva as características quânticas do sistema.\n",
    "\n",
    "Obs: Normalmente utilizada no final, quando queremos medir os qubits para obtermos os bits."
   ]
  },
  {
   "cell_type": "markdown",
   "id": "183f4771-cbea-4910-b0e9-3ca9ee088077",
   "metadata": {},
   "source": [
    "$|\\Psi \\rangle = \\alpha |0 \\rangle + \\beta |1 \\rangle $\n",
    "\n",
    "$|0 \\rangle$ colapsa para o bit 0\n",
    "\n",
    "$|1 \\rangle$ colapsa para o bit 1\n",
    "\n",
    "IMPORTANTE\n",
    "\n",
    "$|\\alpha^2|=\\alpha \\alpha^*$ Probabilidade de medir 0\n",
    "\n",
    "$|\\beta^2|=\\beta \\beta^*$ Probabilidade de medir 1\n",
    "\n",
    "$|\\alpha^2|+|\\beta^2|=1$\n",
    "\n",
    "Onde \n",
    "\n",
    "$\\alpha = |\\alpha|e^{i\\theta_0}$\n",
    "\n",
    "$\\beta = |\\beta|e^{i\\theta_1}$"
   ]
  },
  {
   "cell_type": "markdown",
   "id": "9c8ebbbb-f9cb-4c45-9304-53cfec571a0a",
   "metadata": {},
   "source": [
    "## Hadamard"
   ]
  },
  {
   "cell_type": "code",
   "execution_count": 3,
   "id": "029a51b8-430b-4697-ad06-e83e0696cf2d",
   "metadata": {},
   "outputs": [],
   "source": [
    "from warnings import simplefilter \n",
    "simplefilter(action='ignore', category=DeprecationWarning)\n",
    "\n",
    "import numpy as np\n",
    "from qiskit import *\n",
    "from qiskit.visualization import plot_bloch_multivector\n",
    "import qiskit.quantum_info as qi\n",
    "from scipy import linalg as lng\n",
    "import matplotlib.pyplot as plt"
   ]
  },
  {
   "cell_type": "code",
   "execution_count": 4,
   "id": "f27a87f1-5190-40ba-b7da-84e3fb5ea649",
   "metadata": {},
   "outputs": [
    {
     "name": "stdout",
     "output_type": "stream",
     "text": [
      "[[ 0.70710678  0.70710678]\n",
      " [ 0.70710678 -0.70710678]]\n"
     ]
    }
   ],
   "source": [
    "Had =  (1/np.sqrt(2))*np.array([[1,1],[1,-1]])\n",
    "print(Had)"
   ]
  },
  {
   "cell_type": "markdown",
   "id": "76b30a08-5546-498e-8d66-b4f3ed8ed856",
   "metadata": {},
   "source": [
    "## Pauli-X"
   ]
  },
  {
   "cell_type": "code",
   "execution_count": 5,
   "id": "8d35f762-9100-4b6b-86d6-002f448855a9",
   "metadata": {},
   "outputs": [],
   "source": [
    "from warnings import simplefilter \n",
    "simplefilter(action='ignore', category=DeprecationWarning)\n",
    "\n",
    "import numpy as np\n",
    "from qiskit import *\n",
    "from qiskit.visualization import plot_bloch_multivector\n",
    "import qiskit.quantum_info as qi\n",
    "from scipy import linalg as lng\n",
    "import matplotlib.pyplot as plt"
   ]
  },
  {
   "cell_type": "code",
   "execution_count": 6,
   "id": "ca44eeaf-768e-488b-a9f4-f1af4f188cfa",
   "metadata": {},
   "outputs": [
    {
     "name": "stdout",
     "output_type": "stream",
     "text": [
      "[[0 1]\n",
      " [1 0]]\n"
     ]
    }
   ],
   "source": [
    "X = np.array([[0,1],[1,0]])\n",
    "print(X)"
   ]
  },
  {
   "cell_type": "code",
   "execution_count": null,
   "id": "383d64b1-fa64-4eac-ba5b-cd73972c7730",
   "metadata": {},
   "outputs": [],
   "source": []
  }
 ],
 "metadata": {
  "kernelspec": {
   "display_name": "Python 3 (ipykernel)",
   "language": "python",
   "name": "python3"
  },
  "language_info": {
   "codemirror_mode": {
    "name": "ipython",
    "version": 3
   },
   "file_extension": ".py",
   "mimetype": "text/x-python",
   "name": "python",
   "nbconvert_exporter": "python",
   "pygments_lexer": "ipython3",
   "version": "3.8.5"
  }
 },
 "nbformat": 4,
 "nbformat_minor": 5
}
