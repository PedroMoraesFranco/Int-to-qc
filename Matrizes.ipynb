{
 "cells": [
  {
   "cell_type": "markdown",
   "id": "f241f4ae",
   "metadata": {},
   "source": [
    "# Matrizes"
   ]
  },
  {
   "cell_type": "markdown",
   "id": "1b592dfd",
   "metadata": {},
   "source": [
    "## Definindo matrizes no python"
   ]
  },
  {
   "cell_type": "code",
   "execution_count": 1,
   "id": "90d09910",
   "metadata": {},
   "outputs": [],
   "source": [
    "import numpy as np"
   ]
  },
  {
   "cell_type": "code",
   "execution_count": 5,
   "id": "237fdf73",
   "metadata": {},
   "outputs": [
    {
     "name": "stdout",
     "output_type": "stream",
     "text": [
      "[[ 1  0]\n",
      " [ 0 -1]]\n"
     ]
    }
   ],
   "source": [
    "M = np.array([[1,0],[0,-1]])\n",
    "print(M)"
   ]
  },
  {
   "cell_type": "markdown",
   "id": "cf3d1984",
   "metadata": {},
   "source": [
    "## Operações com matrizes"
   ]
  },
  {
   "cell_type": "markdown",
   "id": "ab244ed2",
   "metadata": {},
   "source": [
    "### Multiplicação por um número "
   ]
  },
  {
   "cell_type": "code",
   "execution_count": 6,
   "id": "4cbce3d9",
   "metadata": {},
   "outputs": [],
   "source": [
    "import numpy as np"
   ]
  },
  {
   "cell_type": "code",
   "execution_count": 14,
   "id": "897b8bc1",
   "metadata": {},
   "outputs": [
    {
     "name": "stdout",
     "output_type": "stream",
     "text": [
      "[[3 0 4]\n",
      " [0 2 1]\n",
      " [1 6 8]]\n"
     ]
    }
   ],
   "source": [
    "M2 = np.array([[3,0,4],[0,2,1],[1,6,8]])\n",
    "print(M2)"
   ]
  },
  {
   "cell_type": "code",
   "execution_count": 16,
   "id": "ba50f754",
   "metadata": {},
   "outputs": [
    {
     "data": {
      "text/plain": [
       "array([[ 7.5,  0. , 10. ],\n",
       "       [ 0. ,  5. ,  2.5],\n",
       "       [ 2.5, 15. , 20. ]])"
      ]
     },
     "execution_count": 16,
     "metadata": {},
     "output_type": "execute_result"
    }
   ],
   "source": [
    "(5/2)*M2"
   ]
  },
  {
   "cell_type": "markdown",
   "id": "b84984eb",
   "metadata": {},
   "source": [
    "### Soma de matrizes "
   ]
  },
  {
   "cell_type": "code",
   "execution_count": 17,
   "id": "b8c80077",
   "metadata": {},
   "outputs": [],
   "source": [
    "import numpy as np"
   ]
  },
  {
   "cell_type": "code",
   "execution_count": 19,
   "id": "1718bdef",
   "metadata": {},
   "outputs": [
    {
     "name": "stdout",
     "output_type": "stream",
     "text": [
      "[[ 1  3]\n",
      " [ 5 -1]]\n"
     ]
    }
   ],
   "source": [
    "M3 = np.array([[1,3],[5,-1]])\n",
    "print(M3)"
   ]
  },
  {
   "cell_type": "code",
   "execution_count": 20,
   "id": "f24bc35a",
   "metadata": {},
   "outputs": [
    {
     "name": "stdout",
     "output_type": "stream",
     "text": [
      "[[ 2  6]\n",
      " [ 5 -9]]\n"
     ]
    }
   ],
   "source": [
    "M4 = np.array([[2,6],[5,-9]])\n",
    "print(M4)"
   ]
  },
  {
   "cell_type": "code",
   "execution_count": 21,
   "id": "6b619454",
   "metadata": {},
   "outputs": [
    {
     "data": {
      "text/plain": [
       "array([[  3,   9],\n",
       "       [ 10, -10]])"
      ]
     },
     "execution_count": 21,
     "metadata": {},
     "output_type": "execute_result"
    }
   ],
   "source": [
    "M3+M4"
   ]
  },
  {
   "cell_type": "code",
   "execution_count": 22,
   "id": "61fcc6b2",
   "metadata": {},
   "outputs": [
    {
     "data": {
      "text/plain": [
       "array([[-1, -3],\n",
       "       [ 0,  8]])"
      ]
     },
     "execution_count": 22,
     "metadata": {},
     "output_type": "execute_result"
    }
   ],
   "source": [
    "M3-M4"
   ]
  },
  {
   "cell_type": "markdown",
   "id": "473a0b76",
   "metadata": {},
   "source": [
    "### Multiplicação de matrizes "
   ]
  },
  {
   "cell_type": "code",
   "execution_count": 32,
   "id": "0e197ae5",
   "metadata": {},
   "outputs": [],
   "source": [
    "import numpy as np"
   ]
  },
  {
   "cell_type": "code",
   "execution_count": 28,
   "id": "6c074f89",
   "metadata": {},
   "outputs": [
    {
     "name": "stdout",
     "output_type": "stream",
     "text": [
      "[[ 1  7]\n",
      " [ 5 -2]]\n"
     ]
    }
   ],
   "source": [
    "M5 = np.array([[1,7],[5,-2]])\n",
    "print(M5)"
   ]
  },
  {
   "cell_type": "code",
   "execution_count": 29,
   "id": "c7fd1182",
   "metadata": {},
   "outputs": [
    {
     "name": "stdout",
     "output_type": "stream",
     "text": [
      "[[2 0]\n",
      " [0 3]]\n"
     ]
    }
   ],
   "source": [
    "M6 = np.array([[2,0],[0,3]])\n",
    "print(M6)"
   ]
  },
  {
   "cell_type": "code",
   "execution_count": 30,
   "id": "77b707cd",
   "metadata": {},
   "outputs": [
    {
     "data": {
      "text/plain": [
       "array([[ 2, 21],\n",
       "       [10, -6]])"
      ]
     },
     "execution_count": 30,
     "metadata": {},
     "output_type": "execute_result"
    }
   ],
   "source": [
    "M5@M6"
   ]
  },
  {
   "cell_type": "code",
   "execution_count": 31,
   "id": "6f1fc21e",
   "metadata": {},
   "outputs": [
    {
     "data": {
      "text/plain": [
       "array([[ 2, 14],\n",
       "       [15, -6]])"
      ]
     },
     "execution_count": 31,
     "metadata": {},
     "output_type": "execute_result"
    }
   ],
   "source": [
    "M6@M5"
   ]
  },
  {
   "cell_type": "markdown",
   "id": "ba4b8485",
   "metadata": {},
   "source": [
    "### Matriz transposta "
   ]
  },
  {
   "cell_type": "code",
   "execution_count": 33,
   "id": "38d4d0ce",
   "metadata": {},
   "outputs": [],
   "source": [
    "import numpy as np"
   ]
  },
  {
   "cell_type": "code",
   "execution_count": 35,
   "id": "13c3b22a",
   "metadata": {},
   "outputs": [
    {
     "name": "stdout",
     "output_type": "stream",
     "text": [
      "[[3 0 4]\n",
      " [0 2 1]\n",
      " [1 6 8]]\n"
     ]
    }
   ],
   "source": [
    "print(M)"
   ]
  },
  {
   "cell_type": "code",
   "execution_count": 36,
   "id": "c15af69a",
   "metadata": {},
   "outputs": [
    {
     "data": {
      "text/plain": [
       "array([[3, 0, 1],\n",
       "       [0, 2, 6],\n",
       "       [4, 1, 8]])"
      ]
     },
     "execution_count": 36,
     "metadata": {},
     "output_type": "execute_result"
    }
   ],
   "source": [
    "M.T"
   ]
  },
  {
   "cell_type": "markdown",
   "id": "b8fc5145",
   "metadata": {},
   "source": [
    "### Divisão de matrizes "
   ]
  },
  {
   "cell_type": "code",
   "execution_count": 42,
   "id": "03dea9d5",
   "metadata": {},
   "outputs": [],
   "source": [
    "import numpy as np"
   ]
  },
  {
   "cell_type": "code",
   "execution_count": 43,
   "id": "99f440dd",
   "metadata": {},
   "outputs": [
    {
     "name": "stdout",
     "output_type": "stream",
     "text": [
      "[[ 1  7]\n",
      " [ 5 -2]]\n"
     ]
    }
   ],
   "source": [
    "print(M5)"
   ]
  },
  {
   "cell_type": "code",
   "execution_count": 44,
   "id": "3140ae70",
   "metadata": {},
   "outputs": [
    {
     "name": "stdout",
     "output_type": "stream",
     "text": [
      "[[2 0]\n",
      " [0 3]]\n"
     ]
    }
   ],
   "source": [
    "print(M6)"
   ]
  },
  {
   "cell_type": "code",
   "execution_count": 45,
   "id": "38969345",
   "metadata": {},
   "outputs": [
    {
     "data": {
      "text/plain": [
       "array([[ 2. ,  0. ],\n",
       "       [ 0. , -1.5]])"
      ]
     },
     "execution_count": 45,
     "metadata": {},
     "output_type": "execute_result"
    }
   ],
   "source": [
    "M6/M5"
   ]
  }
 ],
 "metadata": {
  "kernelspec": {
   "display_name": "Python 3 (ipykernel)",
   "language": "python",
   "name": "python3"
  },
  "language_info": {
   "codemirror_mode": {
    "name": "ipython",
    "version": 3
   },
   "file_extension": ".py",
   "mimetype": "text/x-python",
   "name": "python",
   "nbconvert_exporter": "python",
   "pygments_lexer": "ipython3",
   "version": "3.8.5"
  }
 },
 "nbformat": 4,
 "nbformat_minor": 5
}
