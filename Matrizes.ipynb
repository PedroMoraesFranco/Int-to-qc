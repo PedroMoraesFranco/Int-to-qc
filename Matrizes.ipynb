{
 "cells": [
  {
   "cell_type": "markdown",
   "id": "828222ee",
   "metadata": {},
   "source": [
    "# Matrizes"
   ]
  },
  {
   "cell_type": "markdown",
   "id": "a2dad945",
   "metadata": {},
   "source": [
    "## Definindo matrizes no python"
   ]
  },
  {
   "cell_type": "code",
   "execution_count": 1,
   "id": "8c68e365",
   "metadata": {},
   "outputs": [],
   "source": [
    "import numpy as np"
   ]
  },
  {
   "cell_type": "code",
   "execution_count": 5,
   "id": "f86d2ffe",
   "metadata": {},
   "outputs": [
    {
     "name": "stdout",
     "output_type": "stream",
     "text": [
      "[[ 1  0]\n",
      " [ 0 -1]]\n"
     ]
    }
   ],
   "source": [
    "M = np.array([[1,0],[0,-1]])\n",
    "print(M)"
   ]
  },
  {
   "cell_type": "markdown",
   "id": "e2181621",
   "metadata": {},
   "source": [
    "## Operações com matrizes"
   ]
  },
  {
   "cell_type": "markdown",
   "id": "e1ba75dc",
   "metadata": {},
   "source": [
    "### Multiplicação por um número "
   ]
  },
  {
   "cell_type": "code",
   "execution_count": 6,
   "id": "7d197ca2",
   "metadata": {},
   "outputs": [],
   "source": [
    "import numpy as np"
   ]
  },
  {
   "cell_type": "code",
   "execution_count": 14,
   "id": "5c2785d9",
   "metadata": {},
   "outputs": [
    {
     "name": "stdout",
     "output_type": "stream",
     "text": [
      "[[3 0 4]\n",
      " [0 2 1]\n",
      " [1 6 8]]\n"
     ]
    }
   ],
   "source": [
    "M2 = np.array([[3,0,4],[0,2,1],[1,6,8]])\n",
    "print(M2)"
   ]
  },
  {
   "cell_type": "code",
   "execution_count": 16,
   "id": "acddef82",
   "metadata": {},
   "outputs": [
    {
     "data": {
      "text/plain": [
       "array([[ 7.5,  0. , 10. ],\n",
       "       [ 0. ,  5. ,  2.5],\n",
       "       [ 2.5, 15. , 20. ]])"
      ]
     },
     "execution_count": 16,
     "metadata": {},
     "output_type": "execute_result"
    }
   ],
   "source": [
    "(5/2)*M2"
   ]
  },
  {
   "cell_type": "markdown",
   "id": "1c58fafe",
   "metadata": {},
   "source": [
    "### Soma de matrizes "
   ]
  },
  {
   "cell_type": "code",
   "execution_count": 17,
   "id": "47a30508",
   "metadata": {},
   "outputs": [],
   "source": [
    "import numpy as np"
   ]
  },
  {
   "cell_type": "code",
   "execution_count": 19,
   "id": "8069dd48",
   "metadata": {},
   "outputs": [
    {
     "name": "stdout",
     "output_type": "stream",
     "text": [
      "[[ 1  3]\n",
      " [ 5 -1]]\n"
     ]
    }
   ],
   "source": [
    "M3 = np.array([[1,3],[5,-1]])\n",
    "print(M3)"
   ]
  },
  {
   "cell_type": "code",
   "execution_count": 20,
   "id": "ceb85788",
   "metadata": {},
   "outputs": [
    {
     "name": "stdout",
     "output_type": "stream",
     "text": [
      "[[ 2  6]\n",
      " [ 5 -9]]\n"
     ]
    }
   ],
   "source": [
    "M4 = np.array([[2,6],[5,-9]])\n",
    "print(M4)"
   ]
  },
  {
   "cell_type": "code",
   "execution_count": 21,
   "id": "cdc0b8ee",
   "metadata": {},
   "outputs": [
    {
     "data": {
      "text/plain": [
       "array([[  3,   9],\n",
       "       [ 10, -10]])"
      ]
     },
     "execution_count": 21,
     "metadata": {},
     "output_type": "execute_result"
    }
   ],
   "source": [
    "M3+M4"
   ]
  },
  {
   "cell_type": "code",
   "execution_count": 22,
   "id": "c5c2a1ac",
   "metadata": {},
   "outputs": [
    {
     "data": {
      "text/plain": [
       "array([[-1, -3],\n",
       "       [ 0,  8]])"
      ]
     },
     "execution_count": 22,
     "metadata": {},
     "output_type": "execute_result"
    }
   ],
   "source": [
    "M3-M4"
   ]
  },
  {
   "cell_type": "markdown",
   "id": "75cab0c7",
   "metadata": {},
   "source": [
    "### Multiplicação de matrizes "
   ]
  },
  {
   "cell_type": "code",
   "execution_count": 32,
   "id": "f3e5c589",
   "metadata": {},
   "outputs": [],
   "source": [
    "import numpy as np"
   ]
  },
  {
   "cell_type": "code",
   "execution_count": 28,
   "id": "c3121e2e",
   "metadata": {},
   "outputs": [
    {
     "name": "stdout",
     "output_type": "stream",
     "text": [
      "[[ 1  7]\n",
      " [ 5 -2]]\n"
     ]
    }
   ],
   "source": [
    "M5 = np.array([[1,7],[5,-2]])\n",
    "print(M5)"
   ]
  },
  {
   "cell_type": "code",
   "execution_count": 29,
   "id": "56cf5b2b",
   "metadata": {},
   "outputs": [
    {
     "name": "stdout",
     "output_type": "stream",
     "text": [
      "[[2 0]\n",
      " [0 3]]\n"
     ]
    }
   ],
   "source": [
    "M6 = np.array([[2,0],[0,3]])\n",
    "print(M6)"
   ]
  },
  {
   "cell_type": "code",
   "execution_count": 30,
   "id": "0e7ab582",
   "metadata": {},
   "outputs": [
    {
     "data": {
      "text/plain": [
       "array([[ 2, 21],\n",
       "       [10, -6]])"
      ]
     },
     "execution_count": 30,
     "metadata": {},
     "output_type": "execute_result"
    }
   ],
   "source": [
    "M5@M6"
   ]
  },
  {
   "cell_type": "code",
   "execution_count": 31,
   "id": "950c5c84",
   "metadata": {},
   "outputs": [
    {
     "data": {
      "text/plain": [
       "array([[ 2, 14],\n",
       "       [15, -6]])"
      ]
     },
     "execution_count": 31,
     "metadata": {},
     "output_type": "execute_result"
    }
   ],
   "source": [
    "M6@M5"
   ]
  },
  {
   "cell_type": "markdown",
   "id": "9e92ef93",
   "metadata": {},
   "source": [
    "### Matriz transposta "
   ]
  },
  {
   "cell_type": "code",
   "execution_count": 33,
   "id": "0a059e7f",
   "metadata": {},
   "outputs": [],
   "source": [
    "import numpy as np"
   ]
  },
  {
   "cell_type": "code",
   "execution_count": 35,
   "id": "ef91c653",
   "metadata": {},
   "outputs": [
    {
     "name": "stdout",
     "output_type": "stream",
     "text": [
      "[[3 0 4]\n",
      " [0 2 1]\n",
      " [1 6 8]]\n"
     ]
    }
   ],
   "source": [
    "print(M)"
   ]
  },
  {
   "cell_type": "code",
   "execution_count": 36,
   "id": "f35214b4",
   "metadata": {},
   "outputs": [
    {
     "data": {
      "text/plain": [
       "array([[3, 0, 1],\n",
       "       [0, 2, 6],\n",
       "       [4, 1, 8]])"
      ]
     },
     "execution_count": 36,
     "metadata": {},
     "output_type": "execute_result"
    }
   ],
   "source": [
    "M.T"
   ]
  },
  {
   "cell_type": "code",
   "execution_count": null,
   "id": "93cd8b68",
   "metadata": {},
   "outputs": [],
   "source": []
  }
 ],
 "metadata": {
  "kernelspec": {
   "display_name": "Python 3 (ipykernel)",
   "language": "python",
   "name": "python3"
  },
  "language_info": {
   "codemirror_mode": {
    "name": "ipython",
    "version": 3
   },
   "file_extension": ".py",
   "mimetype": "text/x-python",
   "name": "python",
   "nbconvert_exporter": "python",
   "pygments_lexer": "ipython3",
   "version": "3.8.5"
  }
 },
 "nbformat": 4,
 "nbformat_minor": 5
}
